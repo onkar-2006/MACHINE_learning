{
  "nbformat": 4,
  "nbformat_minor": 0,
  "metadata": {
    "colab": {
      "provenance": []
    },
    "kernelspec": {
      "name": "python3",
      "display_name": "Python 3"
    },
    "language_info": {
      "name": "python"
    }
  },
  "cells": [
    {
      "cell_type": "markdown",
      "source": [
        "# **IMPORT LABRARIES**"
      ],
      "metadata": {
        "id": "rgQh75A7Y6rR"
      }
    },
    {
      "cell_type": "code",
      "execution_count": 1,
      "metadata": {
        "id": "ZAQgVcyKUSnF"
      },
      "outputs": [],
      "source": [
        "import numpy as np\n",
        "import pandas as pd\n",
        "import matplotlib.pyplot as plt\n"
      ]
    },
    {
      "cell_type": "markdown",
      "source": [
        "# **IMPORT DATASET**"
      ],
      "metadata": {
        "id": "ws4fbTbCZGyC"
      }
    },
    {
      "cell_type": "code",
      "source": [
        "dataset = pd.read_csv('file_name')\n",
        "X = dataset.iloc[:,:-1].values\n",
        "y = dataset.iloc[:,-1].values\n"
      ],
      "metadata": {
        "id": "JeSNx0wSUpHz"
      },
      "execution_count": null,
      "outputs": []
    },
    {
      "cell_type": "markdown",
      "source": [
        "# **TAKING CARE MISSING DATA**"
      ],
      "metadata": {
        "id": "7BpGvyctZL4u"
      }
    },
    {
      "cell_type": "code",
      "source": [
        "from sklearn.preprocessing import SimpleImputer\n",
        "imputer = SimpleImputer(missing_value=np.nan , strategy='mean')\n",
        "X[:]=imputer.transform(X[:])\n"
      ],
      "metadata": {
        "id": "JJmR6xMsU8Cc"
      },
      "execution_count": null,
      "outputs": []
    },
    {
      "cell_type": "markdown",
      "source": [
        "#**ENCODING THE INDENPENDENT VARIBLE**"
      ],
      "metadata": {
        "id": "Q-xDTHyjZUn8"
      }
    },
    {
      "cell_type": "code",
      "source": [
        "from sklearn.compose import ColumnTransformer\n",
        "from sklearn.preprocessing import OneHotEncoder\n",
        "ct = ColumnTransformer(transformers=[('encoder ', OneHotEncoder(),[0])], remainder='passthrough')\n",
        "X = np.array(ct.fit_transform(X))"
      ],
      "metadata": {
        "id": "3jdKZNOWVYOD"
      },
      "execution_count": null,
      "outputs": []
    },
    {
      "cell_type": "markdown",
      "source": [
        "# **FUTURE SCALING**"
      ],
      "metadata": {
        "id": "3okrtLqyZllh"
      }
    },
    {
      "cell_type": "code",
      "source": [
        "from sklearn.preprocessing import StandardScaler\n",
        "st = StandardScaler()\n",
        "X  = st.fit_transform(X_train)\n",
        "y = st.fit_transform(y_train)"
      ],
      "metadata": {
        "id": "ijFizHH5WT9-"
      },
      "execution_count": null,
      "outputs": []
    },
    {
      "cell_type": "markdown",
      "source": [
        "# **TRAIN THE DATA ON TRAINING SET**"
      ],
      "metadata": {
        "id": "JlYlXvPWZ03U"
      }
    },
    {
      "cell_type": "code",
      "source": [
        "from sklearn.model_selection import train_test_split\n",
        "X_train , y_train,X_test , y_test = train_test_split(X,y, test_size=\" \",random_state = 0)\n"
      ],
      "metadata": {
        "id": "In_zDAOnW1eM"
      },
      "execution_count": null,
      "outputs": []
    },
    {
      "cell_type": "markdown",
      "source": [
        "# **ENCODING THE DEPENDENT VARIBLE**"
      ],
      "metadata": {
        "id": "oonEmXlhaCyO"
      }
    },
    {
      "cell_type": "code",
      "source": [
        "from sklearn.preprocessing import LabelEncoder\n",
        "le = LabelEncoder()\n",
        "y = le.fit_transform(y)\n"
      ],
      "metadata": {
        "id": "Cm6LBsokXjXN"
      },
      "execution_count": null,
      "outputs": []
    }
  ]
}