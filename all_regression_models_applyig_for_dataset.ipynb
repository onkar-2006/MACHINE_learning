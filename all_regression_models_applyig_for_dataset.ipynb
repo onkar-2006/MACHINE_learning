{
  "nbformat": 4,
  "nbformat_minor": 0,
  "metadata": {
    "colab": {
      "provenance": []
    },
    "kernelspec": {
      "name": "python3",
      "display_name": "Python 3"
    },
    "language_info": {
      "name": "python"
    }
  },
  "cells": [
    {
      "cell_type": "code",
      "source": [
        "# diffrent prediction  matrics\n",
        "y_pred = model.predict(X_test)\n",
        "from sklearn.metrics import confusion_matrix\n",
        "cm = confusion_matrics(y_test , y_pred)\n",
        "print(cm)\n",
        "\n",
        "from sklearn.metrics import mean_squared_error ,r2_score\n",
        "mean_squared=mean_squared_error(y_test , y_pred)\n",
        "r2_score = r2_socre(y_test , y_pred)"
      ],
      "metadata": {
        "id": "kRkySet2DfWO"
      },
      "execution_count": null,
      "outputs": []
    },
    {
      "cell_type": "code",
      "execution_count": null,
      "metadata": {
        "id": "qSIEiEYKC8aU"
      },
      "outputs": [],
      "source": [
        "#linear regression\n",
        "from sklearn.linear_model import LinearRegression\n",
        "le = LinearRegression()\n",
        "le.fit(X_train , y_train)\n",
        "# for training\n",
        "plt.scatter(X_train, y_train, color = 'red')\n",
        "plt.plot(X_train, regressor.predict(X_train), color = 'blue')\n",
        "plt.title('Salary vs Experience (Training set)')\n",
        "plt.xlabel('Years of Experience')\n",
        "plt.ylabel('Salary')\n",
        "plt.show()\n",
        "#for test\n",
        "\n",
        "import matplotlib.pyplot as plt\n",
        "plt.scatter(X_test ,y_test , color='red')\n",
        "plt.plot(X_train , regressor.predict(X_train) , color='blue')\n",
        "plt.title(\"salary\")\n",
        "plt.xlabel(\"year of experince \")\n",
        "plt.ylabel(\"salary as per experince\")\n",
        "plt.show()"
      ]
    },
    {
      "cell_type": "code",
      "source": [
        "#mutliple regression\n",
        "from sklearn.linearmodel import LinearRegression\n",
        "le = LinearRegression\n",
        "le.fit(X_train ,y_train)\n",
        "y_pred = le.predict(X_test)\n",
        "np.set_printoptions(precision=2)\n",
        "print(np.concatnate((y_pred.reshape(len(y_pred),1)y_test.reshape(len(y_test),1)))1,))\n"
      ],
      "metadata": {
        "id": "dLE6r-gXHccK"
      },
      "execution_count": null,
      "outputs": []
    },
    {
      "cell_type": "code",
      "source": [
        "#ploynomial_regressor\n",
        "from sklearn.linear_model import LinearRegression\n",
        "lin_reg = LinearRegression()\n",
        "lin_reg.fit(X, y)\n",
        "from sklearn.preprocessing import PolynomialFeatures\n",
        "poly_reg = PolynomialFeatures(degree=4)\n",
        "X_ploy = poly_reg.fit_transform(X)\n",
        "linear_reg2 = LinearRegression()\n",
        "linear_reg2.fit(X_)"
      ],
      "metadata": {
        "id": "updFhvYjI-58"
      },
      "execution_count": null,
      "outputs": []
    },
    {
      "cell_type": "code",
      "source": [
        "from sklearn.linearmodel import LogisticRegression\n",
        "model = LogisticRegression()\n",
        "model.fit(X_train , y_train)\n",
        "#newv arible come y_prob\n"
      ],
      "metadata": {
        "id": "mcUnhS4DDPoo"
      },
      "execution_count": null,
      "outputs": []
    },
    {
      "cell_type": "code",
      "source": [
        "# svm\n",
        "from sklearn.svm import SVR\n",
        "regressor = SVR(kernel = 'rbf')\n",
        "regressor.fit(X, y)\n",
        "from sklearn.preprocessing import StandardScaler\n",
        "sc_X = StandardScaler()\n",
        "sc_y = StandardScaler()\n",
        "X = sc_X.fit_transform(X)\n",
        "y = sc_y.fit_transform(y)\n",
        "sc_y.inverse_transform(regressor.predict(sc_X.transform([[6.5]])).reshape(-1,1))\n",
        "plt.scatter(sc_X.inverse_transform(X), sc_y.inverse_transform(y), color = 'red')\n",
        "plt.plot(sc_X.inverse_transform(X), sc_y.inverse_transform(regressor.predict(X).reshape(-1,1)), color = 'blue')\n",
        "plt.title('Truth or Bluff (SVR)')\n",
        "plt.xlabel('Position level')\n",
        "plt.ylabel('Salary')\n",
        "plt.show()"
      ],
      "metadata": {
        "id": "AweaqDgKMKdc"
      },
      "execution_count": null,
      "outputs": []
    },
    {
      "cell_type": "code",
      "source": [
        "#xg boost\n",
        "from xgboost import XGBClassifier\n",
        "classifier = XGBClassifier()\n",
        "classifier.fit(X_train, y_train)\n",
        "from sklearn.metrics import confusion_matrix, accuracy_score\n",
        "y_pred = classifier.predict(X_test)\n",
        "cm = confusion_matrix(y_test, y_pred)\n",
        "print(cm)\n",
        "from sklearn.model_selection import cross_val_score\n",
        "accuracies = cross_val_score(estimator = classifier, X = X_train, y = y_train, cv = 10)\n",
        "print(\"Accuracy: {:.2f} %\".format(accuracies.mean()*100))\n",
        "print(\"Standard Deviation: {:.2f} %\".format(accuracies.std()*100))\n"
      ],
      "metadata": {
        "id": "wjcvTTmUMhWP"
      },
      "execution_count": null,
      "outputs": []
    }
  ]
}