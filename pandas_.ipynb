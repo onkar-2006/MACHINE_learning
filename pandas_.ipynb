{
  "nbformat": 4,
  "nbformat_minor": 0,
  "metadata": {
    "colab": {
      "provenance": []
    },
    "kernelspec": {
      "name": "python3",
      "display_name": "Python 3"
    },
    "language_info": {
      "name": "python"
    }
  },
  "cells": [
    {
      "cell_type": "code",
      "source": [
        "dataset.drop(columns=[\"Unnamed: 0\"] , inplace = True)"
      ],
      "metadata": {
        "id": "ApgP96IG2fW-"
      },
      "execution_count": 45,
      "outputs": []
    },
    {
      "cell_type": "code",
      "source": [
        "dataset.head()"
      ],
      "metadata": {
        "id": "Sc1wC9Gg25aF"
      },
      "execution_count": null,
      "outputs": []
    },
    {
      "cell_type": "code",
      "source": [
        "dataset.tail()"
      ],
      "metadata": {
        "id": "J98Ke3Os416n"
      },
      "execution_count": null,
      "outputs": []
    },
    {
      "cell_type": "code",
      "source": [
        "dataset.shape"
      ],
      "metadata": {
        "id": "vMBChZrp44tE"
      },
      "execution_count": null,
      "outputs": []
    },
    {
      "cell_type": "code",
      "source": [
        "dataset.info()"
      ],
      "metadata": {
        "id": "odRKGYqA5EBe"
      },
      "execution_count": null,
      "outputs": []
    },
    {
      "cell_type": "code",
      "source": [
        "dataset.describe()"
      ],
      "metadata": {
        "id": "etL4i7Z15LyK"
      },
      "execution_count": null,
      "outputs": []
    },
    {
      "cell_type": "code",
      "source": [
        "dataset[\"iq\"]"
      ],
      "metadata": {
        "id": "8M3T4b9j5cfm"
      },
      "execution_count": null,
      "outputs": []
    },
    {
      "cell_type": "code",
      "source": [
        "dataset[[\"iq\",\"placement\",\"cgpa\"]]"
      ],
      "metadata": {
        "id": "tBEOcCve52-_"
      },
      "execution_count": null,
      "outputs": []
    },
    {
      "cell_type": "code",
      "source": [
        "dataset.corr()"
      ],
      "metadata": {
        "id": "-TPePMpdQcZR"
      },
      "execution_count": null,
      "outputs": []
    },
    {
      "cell_type": "code",
      "source": [
        "dataset.rename(columns={\"iq\":\"qi\" , \"placement\":\"happy\"})"
      ],
      "metadata": {
        "id": "80DmoCdcP4ln"
      },
      "execution_count": null,
      "outputs": []
    },
    {
      "cell_type": "code",
      "source": [
        "dataset.iloc[1]"
      ],
      "metadata": {
        "id": "1g6RKKDd6MSf"
      },
      "execution_count": null,
      "outputs": []
    },
    {
      "cell_type": "code",
      "source": [
        "dataset.iloc[-1:]"
      ],
      "metadata": {
        "id": "QgSAC36w6buy"
      },
      "execution_count": null,
      "outputs": []
    },
    {
      "cell_type": "code",
      "source": [
        "dataset.iloc[:,[1,2]]"
      ],
      "metadata": {
        "id": "XKSTkIyr6rzO"
      },
      "execution_count": null,
      "outputs": []
    },
    {
      "cell_type": "code",
      "source": [
        "dataset.value_counts().plot(kind=\"bar\")"
      ],
      "metadata": {
        "id": "x4qim8lQ6oU1"
      },
      "execution_count": null,
      "outputs": []
    },
    {
      "cell_type": "code",
      "source": [
        "dataset[\"iq\"].value_counts().plot(kind=\"pie\")"
      ],
      "metadata": {
        "id": "QoFyfsh06mIU"
      },
      "execution_count": null,
      "outputs": []
    },
    {
      "cell_type": "code",
      "source": [
        "dataset[\"iq\"].plot(kind =\"hist\")"
      ],
      "metadata": {
        "id": "ceuzdJz5-vV2"
      },
      "execution_count": null,
      "outputs": []
    },
    {
      "cell_type": "code",
      "source": [
        "(dataset[\"iq\"].value_counts()).sort_values(ascending=False)"
      ],
      "metadata": {
        "id": "hhnAz33a_Tpu"
      },
      "execution_count": null,
      "outputs": []
    },
    {
      "cell_type": "code",
      "source": [
        "dataset[\"iq\"].isnull()"
      ],
      "metadata": {
        "id": "mPgY5jenBAlR"
      },
      "execution_count": null,
      "outputs": []
    },
    {
      "cell_type": "code",
      "source": [
        "dataset.drop_duplicates(subset=[\"placement\"] )"
      ],
      "metadata": {
        "id": "o2nrs5UOBSEa"
      },
      "execution_count": null,
      "outputs": []
    },
    {
      "cell_type": "code",
      "source": [
        "dataset.fillna(0)"
      ],
      "metadata": {
        "id": "QKNmKoOTB7WG"
      },
      "execution_count": null,
      "outputs": []
    }
  ]
}